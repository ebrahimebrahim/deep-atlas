{
 "cells": [
  {
   "cell_type": "markdown",
   "id": "874f6d69",
   "metadata": {},
   "source": [
    "In this notebook I am exploring different ways of working with image deformations as displacement fields, the way they are represented in MONAI's registration components."
   ]
  },
  {
   "cell_type": "code",
   "execution_count": null,
   "id": "a35a829a",
   "metadata": {},
   "outputs": [],
   "source": [
    "import sys"
   ]
  },
  {
   "cell_type": "code",
   "execution_count": null,
   "id": "2b59020b",
   "metadata": {},
   "outputs": [],
   "source": [
    "import monai\n",
    "import torch\n",
    "from utils import plot_2D_vector_field, plot_2D_deformation\n",
    "import math\n",
    "import matplotlib.pyplot as plt\n",
    "import numpy as np"
   ]
  },
  {
   "cell_type": "code",
   "execution_count": null,
   "id": "5903cff8",
   "metadata": {
    "scrolled": true
   },
   "outputs": [],
   "source": [
    "def get_example_ddf(s_x, s_y=None, variant=0):\n",
    "    \"\"\"Get an example DDF (direct displacement field).\n",
    "    Arguments:\n",
    "        s_x, s_y: The x and y scale. Provide s_x only to have them be the same scale.\n",
    "            \"Scale\" here really means \"resolution.\" Think of it as the same underlying displacement,\n",
    "            but meant to be applied to images at different resolutions.\n",
    "        variant: integer selector for which variant of example to return.\n",
    "    \"\"\"\n",
    "    if s_y is None:\n",
    "        s_y=s_x\n",
    "    if variant==0:\n",
    "        ddf = torch.tensor(\n",
    "            [[\n",
    "                [(s_y/32)*math.sin(2*math.pi*(y/s_y) * 3),(s_x/32)*2*math.cos(2*math.pi* (x/s_x) * 2)]\n",
    "                for x in range(s_x)]\n",
    "                for y in range(s_y)\n",
    "            ]\n",
    "        ).permute((2,0,1))\n",
    "    elif variant==1:\n",
    "        ddf = torch.tensor(\n",
    "            [[\n",
    "                [(s_y/32)*math.sin(2*math.pi*(x/s_x) * 3),(s_x/32)*2*math.cos(2*math.pi* (y/s_y) * 2)]\n",
    "                for x in range(s_x)]\n",
    "                for y in range(s_y)\n",
    "            ]\n",
    "        ).permute((2,0,1))\n",
    "    else:\n",
    "        raise ValueError(f\"There is no variant {variant}\")\n",
    "    return ddf"
   ]
  },
  {
   "cell_type": "code",
   "execution_count": null,
   "id": "a435dbdf",
   "metadata": {},
   "outputs": [],
   "source": [
    "scale = 128\n",
    "\n",
    "load_image = monai.transforms.Compose([\n",
    "    monai.transforms.LoadImage(image_only=True, reader='pilreader', dtype=np.float32),\n",
    "    monai.transforms.ScaleIntensityRange(0,255,0,1),\n",
    "    monai.transforms.Transpose((2,1,0)),\n",
    "    monai.transforms.Resize((scale,scale)),\n",
    "    monai.transforms.ToTensor()\n",
    "])\n",
    "\n",
    "img_path = '/home/ebrahim/Pictures/pumpkin_face_autumn_october.jpg' # can put any image here\n",
    "\n",
    "img = load_image(img_path)\n",
    "\n",
    "# function to show image assuming it was in the (channels, height, width) format.\n",
    "def plt_image(img, title=None):\n",
    "    plt.imshow(np.transpose(img,axes=(1,2,0)),)\n",
    "    if title is not None:\n",
    "        plt.title(title)\n",
    "    plt.show()"
   ]
  },
  {
   "cell_type": "code",
   "execution_count": null,
   "id": "c50ef62d",
   "metadata": {},
   "outputs": [],
   "source": [
    "warp = monai.networks.blocks.Warp(mode=\"bilinear\", padding_mode=\"border\")\n",
    "\n",
    "# function that is just like warp except it doesn't work with batch dimension\n",
    "apply_warp = lambda img,ddf : warp(img.unsqueeze(0), ddf.unsqueeze(0))[0]"
   ]
  },
  {
   "cell_type": "markdown",
   "id": "d7aa67b2",
   "metadata": {},
   "source": [
    "Let $\\Omega$ denote the image domain, so that for example a grayscale image is a map $\\Omega\\to\\mathbb{R}$.\n",
    "\n",
    "Deformations $\\phi:\\Omega\\to\\Omega$ act upon images like this:\n",
    "$$\n",
    "I.\\phi = I\\circ \\Phi\n",
    "$$\n",
    "Note that this is a _right_ action. This is important to keep in mind in order to get composition in the correct order later on."
   ]
  },
  {
   "cell_type": "markdown",
   "id": "2318072f",
   "metadata": {},
   "source": [
    "# How not to compute the inverse of a displacement field\n",
    "\n",
    "Suppose $\\phi$ is the deformation $x\\mapsto x+u(x)$. Here $u(x)$ can be though of as a displacement field, so one might think that $-u(x)$ leads to a reasonable approximate inverse. But it's actually quite bad where the deformation has a sizable derivative. Let's think about how the displacement field for the inverse of $\\phi$ is actually related to the dispalcement field for $\\phi$.\n",
    "\n",
    "Let $\\bar{u}(y)$ be the displacement field for $\\phi^{-1}$; i.e. $\\bar{u}(y)$ is such that $\\phi^{-1}$ maps $y$  to $y+\\bar{u}(y)$. Then\n",
    "\n",
    "$$x = \\phi^{-1}(\\phi(x)) = \\phi^{-1}(x+u(x)) = x+u(x)+\\bar{u}(x+u(x)) $$\n",
    "\n",
    "$$y = \\phi(\\phi^{-1}(y)) = \\phi^{-1}(y+\\bar{u}(y)) = y+\\bar{u}(y)+u(y+\\bar{u}(y)) $$\n",
    "\n",
    "so\n",
    "\n",
    "$$ \\bar{u}(x+u(x)) = -u(x) $$\n",
    "$$ \\bar{u}(y) = -u(y+\\bar{u}(y)) $$\n",
    "\n",
    "or in other words\n",
    "\n",
    "$$ \\bar{u}.\\phi=-u$$\n",
    "$$ \\bar{u}=-u.\\phi^{-1}$$\n",
    "\n",
    "You can't get $\\bar{u}$ without already having a way to apply $\\phi^{-1}$, which is nontrivial for arbitrary invertible $\\phi$."
   ]
  },
  {
   "cell_type": "markdown",
   "id": "e07e1c61",
   "metadata": {},
   "source": [
    "## Demo of negative displacement failing to work"
   ]
  },
  {
   "cell_type": "code",
   "execution_count": null,
   "id": "53650ad9",
   "metadata": {},
   "outputs": [],
   "source": [
    "strength = 1\n",
    "\n",
    "u = strength*get_example_ddf(scale, variant=0) \n",
    "ub = -u # a bad attempt at approximating the inverse of phi\n",
    "\n",
    "plot_2D_vector_field(u, 4)\n",
    "plt.title('phi')\n",
    "plt.show()\n",
    "plot_2D_vector_field(ub, 4)\n",
    "plt.title('phi with negated displacements; let\\'s call it psi')\n",
    "plt.show()"
   ]
  },
  {
   "cell_type": "code",
   "execution_count": null,
   "id": "7ab9fe21",
   "metadata": {
    "scrolled": false
   },
   "outputs": [],
   "source": [
    "img1 = apply_warp(img,u)\n",
    "img2 = apply_warp(img,ub)\n",
    "img3 = apply_warp(img1,ub)\n",
    "img4 = apply_warp(img2,u)\n",
    "plt_image(img,\"img\")\n",
    "plt_image(img1,\"img.phi\")\n",
    "plt_image(img2,\"img.psi\")\n",
    "plt_image(img3,\"img.phi.psi\")\n",
    "plt_image(img4,\"img.psi.phi\")"
   ]
  },
  {
   "cell_type": "markdown",
   "id": "879801fa",
   "metadata": {},
   "source": [
    "The last two images should look like the first image, perhaps with some loss. But they look warped, because, as discussed above, negating the displacement field doesn't work to produce an inverse."
   ]
  },
  {
   "cell_type": "markdown",
   "id": "f0cb0942",
   "metadata": {},
   "source": [
    "# How to compose two displacement fields"
   ]
  },
  {
   "cell_type": "markdown",
   "id": "890d1e52",
   "metadata": {},
   "source": [
    "Say $\\phi(x)=x+u(x)$ and $\\psi(y)=y+v(y)$. Then \n",
    "$$\\psi(\\phi(x)) = x+u(x)+v(x+u(x))$$\n",
    "so the displacement field for $\\psi\\circ \\phi$ is\n",
    "$$u(x)+v(x+u(x))$$\n",
    "or in other words\n",
    "$$u+v.\\phi$$\n",
    "The displacement field $v$ is just a kind of image, where the channels are vector components. So we can compute $\\phi.v$ using the same method that we use to warp images.\n",
    "\n",
    "Potential source of confusion: Acting on an image by $\\psi\\circ\\phi$ first applies the deformation $\\psi$ and then applies the deformation $\\phi$. This is because deforming images is a _right_ action. This is confusing, because thinking of $\\psi\\circ\\phi$ as a function $\\Omega\\to\\Omega$ usually means you are thinking about how it acts on points, which is a left action and should be interpreted in the \"$\\phi$ then $\\psi$\" order."
   ]
  },
  {
   "cell_type": "code",
   "execution_count": null,
   "id": "8109a4f4",
   "metadata": {},
   "outputs": [],
   "source": [
    "strength = 1\n",
    "\n",
    "u = strength*get_example_ddf(scale, variant=1) \n",
    "v = strength*get_example_ddf(scale, variant=0) \n",
    "\n",
    "plot_2D_vector_field(u, 4)\n",
    "plt.title('phi')\n",
    "plt.show()\n",
    "plot_2D_vector_field(v, 4)\n",
    "plt.title('psi')\n",
    "plt.show()"
   ]
  },
  {
   "cell_type": "code",
   "execution_count": null,
   "id": "eedc163c",
   "metadata": {
    "scrolled": false
   },
   "outputs": [],
   "source": [
    "plt_image(img,\"img\")\n",
    "plt_image(apply_warp(img,v),\"img.psi\")\n",
    "plt_image(apply_warp(apply_warp(img,v),u),\"(img.psi).phi\")\n",
    "w = u+apply_warp(v,u)\n",
    "plt_image(apply_warp(img,w),\"img.(psi.phi)\")"
   ]
  },
  {
   "cell_type": "markdown",
   "id": "0f87ae93",
   "metadata": {},
   "source": [
    "The fact that the last two images look the same is a good verification of the suggested technique for displacement field composition:\n",
    "```\n",
    "w = u + warp(v,u)\n",
    "```\n",
    "This is the way to create a displacement field for the deformation that first warps via displacement `v` and then warps via displacement `u`.\n",
    "\n",
    "For fun, here's a view of the composite displacement field:"
   ]
  },
  {
   "cell_type": "code",
   "execution_count": null,
   "id": "0234d195",
   "metadata": {},
   "outputs": [],
   "source": [
    "plot_2D_vector_field(w, 4)\n",
    "plt.title(\"psi.phi\")\n",
    "plt.show()"
   ]
  },
  {
   "cell_type": "markdown",
   "id": "83424327",
   "metadata": {},
   "source": [
    "# TODO: resolve a couple of confusions here"
   ]
  },
  {
   "cell_type": "markdown",
   "id": "26c6b3b5",
   "metadata": {},
   "source": [
    "This following picture is currently wrong. The function `plot_2D_deformation` plots the wrong direction of deformation action. This needs to be fixed in the deep atlas tutorial."
   ]
  },
  {
   "cell_type": "code",
   "execution_count": null,
   "id": "26419845",
   "metadata": {},
   "outputs": [],
   "source": [
    "plot_2D_deformation(v,4)"
   ]
  },
  {
   "cell_type": "markdown",
   "id": "c47001ee",
   "metadata": {},
   "source": [
    "The following picture confuses me. I would expect that the inverse of the displacement described by the vector field shown below should push axis-aligned grid lines around in such a way that they become non-straight. Yet when I apply monai's warp to an image of a grid, I do get straight lines. What am I missing here?"
   ]
  },
  {
   "cell_type": "code",
   "execution_count": null,
   "id": "e8167fe1",
   "metadata": {},
   "outputs": [],
   "source": [
    "plot_2D_vector_field(v,4)\n",
    "plt.show()\n",
    "plt_image(apply_warp(load_image('/home/ebrahim/Pictures/grid.jpg'),v))"
   ]
  },
  {
   "cell_type": "markdown",
   "id": "7dd510b2",
   "metadata": {},
   "source": [
    "## Make a grid and right-act upon it by displacement field"
   ]
  },
  {
   "cell_type": "code",
   "execution_count": null,
   "id": "ca2d97fe",
   "metadata": {},
   "outputs": [],
   "source": [
    "vector_field = v\n",
    "grid_spacing = 4 # must be int\n",
    "\n",
    "spatial_dims, height, width = vector_field.shape\n",
    "assert(spatial_dims==2)\n"
   ]
  },
  {
   "cell_type": "code",
   "execution_count": null,
   "id": "e1aa8b2e",
   "metadata": {},
   "outputs": [],
   "source": [
    "img = np.zeros((height, width))\n",
    "img[np.arange(0, height, grid_spacing),:]=1\n",
    "img[:,np.arange(0, width, grid_spacing)]=1\n",
    "img = torch.tensor(img, dtype=torch.float32).unsqueeze(0)\n",
    "plt_image(img)\n",
    "warped_img = apply_warp(img, vector_field)\n",
    "plt_image(warped_img)"
   ]
  },
  {
   "cell_type": "markdown",
   "id": "d1ebbcc6",
   "metadata": {},
   "source": [
    "## Kind of reimplement MONAI warp to make sure it's doing what I think"
   ]
  },
  {
   "cell_type": "code",
   "execution_count": null,
   "id": "0cf6f688",
   "metadata": {},
   "outputs": [],
   "source": [
    "grid_sample = torch.nn.functional.grid_sample"
   ]
  },
  {
   "cell_type": "code",
   "execution_count": null,
   "id": "000acbf3",
   "metadata": {},
   "outputs": [],
   "source": [
    "input = img.unsqueeze(0)\n",
    "\n",
    "identity_phi = torch.stack(torch.meshgrid(torch.linspace(0,height-1,height), torch.linspace(0,width-1,width)))\n",
    "phi = identity_phi + vector_field\n",
    "phi_normalized = ((phi/torch.tensor([height,width]).reshape((2,1,1)))*2-1)\n",
    "grid = phi_normalized.permute((1,2,0)).unsqueeze(0)"
   ]
  },
  {
   "cell_type": "code",
   "execution_count": null,
   "id": "5f75277e",
   "metadata": {},
   "outputs": [],
   "source": [
    "out = grid_sample(input, grid, align_corners=False, mode='bilinear')\n",
    "\n",
    "plt.imshow(out[0,0])\n",
    "plt.show()"
   ]
  },
  {
   "cell_type": "markdown",
   "id": "b0f96fad",
   "metadata": {},
   "source": [
    "Hmm yes, it is definitely doing what I think. I am still puzzled by the output."
   ]
  }
 ],
 "metadata": {
  "kernelspec": {
   "display_name": "Python 3 (ipykernel)",
   "language": "python",
   "name": "python3"
  },
  "language_info": {
   "codemirror_mode": {
    "name": "ipython",
    "version": 3
   },
   "file_extension": ".py",
   "mimetype": "text/x-python",
   "name": "python",
   "nbconvert_exporter": "python",
   "pygments_lexer": "ipython3",
   "version": "3.8.10"
  }
 },
 "nbformat": 4,
 "nbformat_minor": 5
}
